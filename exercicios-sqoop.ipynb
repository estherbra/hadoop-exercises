{
 "cells": [
  {
   "cell_type": "markdown",
   "metadata": {},
   "source": [
    "## Sqoop -  Pesquisa e Criação de Tabelas"
   ]
  },
  {
   "cell_type": "markdown",
   "metadata": {},
   "source": [
    " 1.Mostrar todos os databases"
   ]
  },
  {
   "cell_type": "code",
   "execution_count": null,
   "metadata": {
    "vscode": {
     "languageId": "plaintext"
    }
   },
   "outputs": [],
   "source": [
    "docker exec -it namenode bash\n",
    "sqoop list-databases --connect jdbc:mysql://database --username root -password secret\n",
    "\n",
    "information_schema\n",
    "employees\n",
    "hue\n",
    "mysql\n",
    "performance_schema\n",
    "sakila\n",
    "sys"
   ]
  },
  {
   "cell_type": "markdown",
   "metadata": {},
   "source": [
    "2.Mostrar todas as tabelas do bd employees"
   ]
  },
  {
   "cell_type": "code",
   "execution_count": null,
   "metadata": {
    "vscode": {
     "languageId": "plaintext"
    }
   },
   "outputs": [],
   "source": [
    "sqoop list-tables --connect jdbc:mysql://database/employees --username root -password secret\n",
    "\n",
    "current_dept_emp\n",
    "departments\n",
    "dept_emp\n",
    "dept_emp_latest_date\n",
    "dept_manager\n",
    "employees\n",
    "employees_2\n",
    "titles"
   ]
  },
  {
   "cell_type": "markdown",
   "metadata": {},
   "source": [
    "3.Inserir os valores ('d010', 'BI') na tabela departments do bd employees"
   ]
  },
  {
   "cell_type": "code",
   "execution_count": null,
   "metadata": {
    "vscode": {
     "languageId": "plaintext"
    }
   },
   "outputs": [],
   "source": [
    "sqoop eval --connect jdbc:mysql://database/employees --username root -password secret --query \"insert into departments values('d010','BI')\"\n"
   ]
  },
  {
   "cell_type": "markdown",
   "metadata": {},
   "source": [
    "4. Pesquisar todos os registros da tabela departments"
   ]
  },
  {
   "cell_type": "code",
   "execution_count": null,
   "metadata": {
    "vscode": {
     "languageId": "plaintext"
    }
   },
   "outputs": [],
   "source": [
    "sqoop eval --connect jdbc:mysql://database/employees --username root -password secret --query \"select * from departments\"\n",
    "\n",
    "-------------------------------\n",
    "| dept_no | dept_name            |\n",
    "-------------------------------\n",
    "| d010 | BI                   |\n",
    "| d009 | Customer Service     |\n",
    "| d005 | Development          |\n",
    "| d002 | Finance              |\n",
    "| d003 | Human Resources      |\n",
    "| d001 | Marketing            |\n",
    "| d004 | Production           |\n",
    "| d006 | Quality Management   |\n",
    "| d008 | Research             |\n",
    "| d007 | Sales                |\n",
    "-------------------------------"
   ]
  },
  {
   "cell_type": "markdown",
   "metadata": {},
   "source": [
    "5.Criar a tabela benefits(cod int(2)  AUTO_INCREMENT PRIMARY KEY, name varchar(30)) no bd employees"
   ]
  },
  {
   "cell_type": "code",
   "execution_count": null,
   "metadata": {
    "vscode": {
     "languageId": "plaintext"
    }
   },
   "outputs": [],
   "source": [
    "sqoop eval --connect jdbc:mysql://database/employees --username root -password secret --query \"create table benefits(cod int(2)  AUTO_INCREMENT PRIMARY KEY, name varchar(30))\"\n"
   ]
  },
  {
   "cell_type": "markdown",
   "metadata": {},
   "source": [
    "6.Inserir os valores (null,'food vale') na tabela benefits"
   ]
  },
  {
   "cell_type": "code",
   "execution_count": null,
   "metadata": {
    "vscode": {
     "languageId": "plaintext"
    }
   },
   "outputs": [],
   "source": [
    "sqoop eval --connect jdbc:mysql://database/employees --username root -password secret --query \"insert into benefits values(null,'food vale')\"\n"
   ]
  },
  {
   "cell_type": "markdown",
   "metadata": {},
   "source": [
    "7.Pesquisar todos os registros da tabela benefits"
   ]
  },
  {
   "cell_type": "code",
   "execution_count": null,
   "metadata": {
    "vscode": {
     "languageId": "plaintext"
    }
   },
   "outputs": [],
   "source": [
    "sqoop eval --connect jdbc:mysql://database/employees --username root -password secret --query \"select * from benefits\"\n",
    "\n",
    "-----------------------------\n",
    "| cod | name                 |\n",
    "-----------------------------\n",
    "| 1  | food vale            |\n",
    "-----------------------------"
   ]
  }
 ],
 "metadata": {
  "language_info": {
   "name": "python"
  },
  "orig_nbformat": 4
 },
 "nbformat": 4,
 "nbformat_minor": 2
}
