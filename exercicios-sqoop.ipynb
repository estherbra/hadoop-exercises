{
 "cells": [
  {
   "cell_type": "markdown",
   "metadata": {},
   "source": [
    "## Sqoop -  Pesquisa e Criação de Tabelas"
   ]
  },
  {
   "cell_type": "markdown",
   "metadata": {},
   "source": [
    " 1.Mostrar todos os databases"
   ]
  },
  {
   "cell_type": "code",
   "execution_count": null,
   "metadata": {
    "vscode": {
     "languageId": "plaintext"
    }
   },
   "outputs": [],
   "source": [
    "docker exec -it namenode bash\n",
    "sqoop list-databases --connect jdbc:mysql://database --username root -password secret\n",
    "\n",
    "information_schema\n",
    "employees\n",
    "hue\n",
    "mysql\n",
    "performance_schema\n",
    "sakila\n",
    "sys"
   ]
  },
  {
   "cell_type": "markdown",
   "metadata": {},
   "source": [
    "2.Mostrar todas as tabelas do bd employees"
   ]
  },
  {
   "cell_type": "code",
   "execution_count": null,
   "metadata": {
    "vscode": {
     "languageId": "plaintext"
    }
   },
   "outputs": [],
   "source": [
    "sqoop list-tables --connect jdbc:mysql://database/employees --username root -password secret\n",
    "\n",
    "current_dept_emp\n",
    "departments\n",
    "dept_emp\n",
    "dept_emp_latest_date\n",
    "dept_manager\n",
    "employees\n",
    "employees_2\n",
    "titles"
   ]
  },
  {
   "cell_type": "markdown",
   "metadata": {},
   "source": [
    "3.Inserir os valores ('d010', 'BI') na tabela departments do bd employees"
   ]
  },
  {
   "cell_type": "code",
   "execution_count": null,
   "metadata": {
    "vscode": {
     "languageId": "plaintext"
    }
   },
   "outputs": [],
   "source": [
    "sqoop eval --connect jdbc:mysql://database/employees --username root -password secret --query \"insert into departments values('d010','BI')\"\n"
   ]
  },
  {
   "cell_type": "markdown",
   "metadata": {},
   "source": [
    "4. Pesquisar todos os registros da tabela departments"
   ]
  },
  {
   "cell_type": "code",
   "execution_count": null,
   "metadata": {
    "vscode": {
     "languageId": "plaintext"
    }
   },
   "outputs": [],
   "source": [
    "sqoop eval --connect jdbc:mysql://database/employees --username root -password secret --query \"select * from departments\"\n",
    "\n",
    "-------------------------------\n",
    "| dept_no | dept_name            |\n",
    "-------------------------------\n",
    "| d010 | BI                   |\n",
    "| d009 | Customer Service     |\n",
    "| d005 | Development          |\n",
    "| d002 | Finance              |\n",
    "| d003 | Human Resources      |\n",
    "| d001 | Marketing            |\n",
    "| d004 | Production           |\n",
    "| d006 | Quality Management   |\n",
    "| d008 | Research             |\n",
    "| d007 | Sales                |\n",
    "-------------------------------"
   ]
  },
  {
   "cell_type": "markdown",
   "metadata": {},
   "source": [
    "5.Criar a tabela benefits(cod int(2)  AUTO_INCREMENT PRIMARY KEY, name varchar(30)) no bd employees"
   ]
  },
  {
   "cell_type": "code",
   "execution_count": null,
   "metadata": {
    "vscode": {
     "languageId": "plaintext"
    }
   },
   "outputs": [],
   "source": [
    "sqoop eval --connect jdbc:mysql://database/employees --username root -password secret --query \"create table benefits(cod int(2)  AUTO_INCREMENT PRIMARY KEY, name varchar(30))\"\n"
   ]
  },
  {
   "cell_type": "markdown",
   "metadata": {},
   "source": [
    "6.Inserir os valores (null,'food vale') na tabela benefits"
   ]
  },
  {
   "cell_type": "code",
   "execution_count": null,
   "metadata": {
    "vscode": {
     "languageId": "plaintext"
    }
   },
   "outputs": [],
   "source": [
    "sqoop eval --connect jdbc:mysql://database/employees --username root -password secret --query \"insert into benefits values(null,'food vale')\"\n"
   ]
  },
  {
   "cell_type": "markdown",
   "metadata": {},
   "source": [
    "7.Pesquisar todos os registros da tabela benefits"
   ]
  },
  {
   "cell_type": "code",
   "execution_count": null,
   "metadata": {
    "vscode": {
     "languageId": "plaintext"
    }
   },
   "outputs": [],
   "source": [
    "sqoop eval --connect jdbc:mysql://database/employees --username root -password secret --query \"select * from benefits\"\n",
    "\n",
    "-----------------------------\n",
    "| cod | name                 |\n",
    "-----------------------------\n",
    "| 1  | food vale            |\n",
    "-----------------------------"
   ]
  },
  {
   "cell_type": "markdown",
   "metadata": {},
   "source": [
    "## Importação BD Employees"
   ]
  },
  {
   "cell_type": "markdown",
   "metadata": {},
   "source": [
    "1. Pesquisar os 10 primeiros registros da tabela employees do banco de dados employees"
   ]
  },
  {
   "cell_type": "code",
   "execution_count": null,
   "metadata": {
    "vscode": {
     "languageId": "plaintext"
    }
   },
   "outputs": [],
   "source": [
    "sqoop eval --connect jdbc:mysql://database/employees --username root -password secret --query \"select * from employees limit 10\"\n",
    "\n",
    "---------------------------------------------------------------------------------\n",
    "| emp_no      | birth_date | first_name     | last_name        | gender | hire_date  |\n",
    "---------------------------------------------------------------------------------\n",
    "| 10001       | 1953-09-02 | Georgi         | Facello          | M | 1986-06-26 |\n",
    "| 10002       | 1964-06-02 | Bezalel        | Simmel           | F | 1985-11-21 |\n",
    "| 10003       | 1959-12-03 | Parto          | Bamford          | M | 1986-08-28 |\n",
    "| 10004       | 1954-05-01 | Chirstian      | Koblick          | M | 1986-12-01 |\n",
    "| 10005       | 1955-01-21 | Kyoichi        | Maliniak         | M | 1989-09-12 |\n",
    "| 10006       | 1953-04-20 | Anneke         | Preusig          | F | 1989-06-02 |\n",
    "| 10007       | 1957-05-23 | Tzvetan        | Zielinski        | F | 1989-02-10 |\n",
    "| 10008       | 1958-02-19 | Saniya         | Kalloufi         | M | 1994-09-15 |\n",
    "| 10009       | 1952-04-19 | Sumant         | Peac             | F | 1985-02-18 |\n",
    "| 10010       | 1963-06-01 | Duangkaew      | Piveteau         | F | 1989-08-24 |\n",
    "---------------------------------------------------------------------------------"
   ]
  },
  {
   "cell_type": "markdown",
   "metadata": {},
   "source": [
    "2.Realizar as importações referentes a tabela employees e para validar cada questão,  é necessário visualizar no HDFS*\n",
    "\n",
    "A - Importar a tabela employees no warehouse  /user/hive/warehouse/db_test_a"
   ]
  },
  {
   "cell_type": "code",
   "execution_count": null,
   "metadata": {
    "vscode": {
     "languageId": "plaintext"
    }
   },
   "outputs": [],
   "source": [
    "sqoop import --table enployees --connect jdbc:mysql://database/employees --username root -password secret --warehouse-dir /user/hive/warehouse/db_test_a"
   ]
  },
  {
   "cell_type": "markdown",
   "metadata": {},
   "source": [
    "B- Importar todos os funcionários do gênero masculino, no warehouse  /user/hive/warehouse/db_test_b"
   ]
  },
  {
   "cell_type": "code",
   "execution_count": null,
   "metadata": {
    "vscode": {
     "languageId": "plaintext"
    }
   },
   "outputs": [],
   "source": [
    "sqoop import --table employees --connect jdbc:mysql://database/employees --username root -password secret --where \"gender='M'\" --warehouse-dir /user/hive/warehouse/db_test_b"
   ]
  },
  {
   "cell_type": "markdown",
   "metadata": {},
   "source": [
    "C- importar o primeiro e o último nome dos funcionários com os campos separados por tabulação, no warehouse  /user/hive/warehouse/db_test_c"
   ]
  },
  {
   "cell_type": "code",
   "execution_count": null,
   "metadata": {
    "vscode": {
     "languageId": "plaintext"
    }
   },
   "outputs": [],
   "source": [
    "sqoop import --table employees --connect jdbc:mysql://database/employees --username root -password secret --columns \"first_name,last_name\" --fields-terminated-by '\\t' --warehouse-dir /user/hive/warehouse/db_test_c"
   ]
  },
  {
   "cell_type": "markdown",
   "metadata": {},
   "source": [
    "D- Importar o primeiro e o último nome dos funcionários com as linhas separadas por “ : ” e salvar no mesmo diretório da questão 2.C"
   ]
  },
  {
   "cell_type": "code",
   "execution_count": null,
   "metadata": {
    "vscode": {
     "languageId": "plaintext"
    }
   },
   "outputs": [],
   "source": [
    "sqoop import --table employees --connect jdbc:mysql://database/employees --username root -password secret --columns \"first_name,last_name\" --lines-terminated-by ':' --warehouse-dir /user/hive/warehouse/db_test_c -delete-target-dir"
   ]
  }
 ],
 "metadata": {
  "language_info": {
   "name": "python"
  },
  "orig_nbformat": 4
 },
 "nbformat": 4,
 "nbformat_minor": 2
}
