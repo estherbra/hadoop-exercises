{
 "cells": [
  {
   "cell_type": "markdown",
   "metadata": {},
   "source": [
    "## Exercício criação da tabela raw\n",
    "\n",
    "1.Enviar o arquivo local “/input/exercises-data/populacaoLA/populacaoLA.csv” para o diretório no HDFS “/user/aluno/<nome>/data/populacao”"
   ]
  },
  {
   "cell_type": "code",
   "execution_count": null,
   "metadata": {
    "vscode": {
     "languageId": "plaintext"
    }
   },
   "outputs": [],
   "source": [
    "hdfs dfs -mkdir /user/aluno/esther/data/populacao\n",
    "hdfs dfs -put /input/exercises-data/populacaoLA/populacaoLA.csv /user/aluno/esther/data/populacao/"
   ]
  },
  {
   "cell_type": "markdown",
   "metadata": {},
   "source": [
    "2.Listar os bancos de dados no Hive"
   ]
  },
  {
   "cell_type": "code",
   "execution_count": null,
   "metadata": {
    "vscode": {
     "languageId": "plaintext"
    }
   },
   "outputs": [],
   "source": [
    " docker exec -it hive-server bash\n",
    " beeline --help\n",
    " beeline -u jdbc:hive2://localhost:10000\n",
    " \n",
    " show databases;\n",
    "+----------------+\n",
    "| database_name  |\n",
    "+----------------+\n",
    "| default        |\n",
    "+----------------+\n"
   ]
  },
  {
   "cell_type": "markdown",
   "metadata": {},
   "source": [
    "3.Criar o banco de dados <nome>"
   ]
  },
  {
   "cell_type": "code",
   "execution_count": null,
   "metadata": {
    "vscode": {
     "languageId": "plaintext"
    }
   },
   "outputs": [],
   "source": [
    " create database esther;\n",
    "\n",
    " show databases;\n",
    "+----------------+\n",
    "| database_name  |\n",
    "+----------------+\n",
    "| default        |\n",
    "| esther         |\n",
    "+----------------+"
   ]
  },
  {
   "cell_type": "markdown",
   "metadata": {},
   "source": [
    "4.Criar a Tabela Hive no BD <nome>\n",
    "\n",
    "Tabela interna: pop\n",
    "Campos:\n",
    "zip_code - int\n",
    "total_population - int\n",
    "median_age - float\n",
    "total_males - int\n",
    "total_females - int\n",
    "total_households - int\n",
    "average_household_size - float\n",
    "Propriedades\n",
    "Delimitadores: Campo ‘,’ | Linha ‘\\n’\n",
    "Sem Partição\n",
    "Tipo do arquivo: Texto\n",
    "tblproperties(\"skip.header.line.count\"=\"1\")’"
   ]
  },
  {
   "cell_type": "code",
   "execution_count": null,
   "metadata": {
    "vscode": {
     "languageId": "plaintext"
    }
   },
   "outputs": [],
   "source": [
    "use esther;\n",
    "\n",
    "create table pop (\n",
    "zip_code int,\n",
    "total_population int,\n",
    "median_age float,\n",
    "total_males int,\n",
    "total_females int,\n",
    "total_households int,\n",
    "average_household_size float\n",
    ")\n",
    "row format delimited\n",
    "fields terminated by ','\n",
    "lines terminated by '\\n'\n",
    "stored as textfile\n",
    "tblproperties(\"skip.header.line.count\"=\"1\");"
   ]
  },
  {
   "cell_type": "markdown",
   "metadata": {},
   "source": [
    "5.Visualizar a descrição da tabela pop"
   ]
  },
  {
   "cell_type": "code",
   "execution_count": null,
   "metadata": {
    "vscode": {
     "languageId": "plaintext"
    }
   },
   "outputs": [],
   "source": [
    " desc pop;\n",
    "+-------------------------+------------+----------+\n",
    "|        col_name         | data_type  | comment  |\n",
    "+-------------------------+------------+----------+\n",
    "| zip_code                | int        |          |\n",
    "| total_population        | int        |          |\n",
    "| median_age              | float      |          |\n",
    "| total_males             | int        |          |\n",
    "| total_females           | int        |          |\n",
    "| total_households        | int        |          |\n",
    "| average_household_size  | float      |          |\n",
    "+-------------------------+------------+----------+\n",
    "7 rows selected (0.74 seconds)\n",
    "\n",
    "desc formatted pop;\n",
    "+-------------------------------+----------------------------------------------------+-----------------------+\n",
    "|           col_name            |                     data_type                      |        comment        |\n",
    "+-------------------------------+----------------------------------------------------+-----------------------+\n",
    "| # col_name                    | data_type                                          | comment               |\n",
    "|                               | NULL                                               | NULL                  |\n",
    "| zip_code                      | int                                                |                       |\n",
    "| total_population              | int                                                |                       |\n",
    "| median_age                    | float                                              |                       |\n",
    "| total_males                   | int                                                |                       |\n",
    "| total_females                 | int                                                |                       |\n",
    "| total_households              | int                                                |                       |\n",
    "| average_household_size        | float                                              |                       |\n",
    "|                               | NULL                                               | NULL                  |\n",
    "| # Detailed Table Information  | NULL                                               | NULL                  |\n",
    "| Database:                     | esther                                             | NULL                  |\n",
    "| Owner:                        | root                                               | NULL                  |\n",
    "| CreateTime:                   | Tue May 24 19:41:31 UTC 2022                       | NULL                  |\n",
    "| LastAccessTime:               | UNKNOWN                                            | NULL                  |\n",
    "| Retention:                    | 0                                                  | NULL                  |\n",
    "| Location:                     | hdfs://namenode:8020/user/hive/warehouse/esther.db/pop | NULL                  |\n",
    "| Table Type:                   | MANAGED_TABLE                                      | NULL                  |\n",
    "| Table Parameters:             | NULL                                               | NULL                  |\n",
    "|                               | numFiles                                           | 1                     |\n",
    "|                               | numRows                                            | 0                     |\n",
    "|                               | rawDataSize                                        | 0                     |\n",
    "|                               | skip.header.line.count                             | 1                     |\n",
    "|                               | totalSize                                          | 12183                 |\n",
    "|                               | transient_lastDdlTime                              | 1653523837            |\n",
    "|                               | NULL                                               | NULL                  |\n",
    "| # Storage Information         | NULL                                               | NULL                  |\n",
    "| SerDe Library:                | org.apache.hadoop.hive.serde2.lazy.LazySimpleSerDe | NULL                  |\n",
    "| InputFormat:                  | org.apache.hadoop.mapred.TextInputFormat           | NULL                  |\n",
    "| OutputFormat:                 | org.apache.hadoop.hive.ql.io.HiveIgnoreKeyTextOutputFormat | NULL                  |\n",
    "| Compressed:                   | No                                                 | NULL                  |\n",
    "| Num Buckets:                  | -1                                                 | NULL                  |\n",
    "| Bucket Columns:               | []                                                 | NULL                  |\n",
    "| Sort Columns:                 | []                                                 | NULL                  |\n",
    "| Storage Desc Params:          | NULL                                               | NULL                  |\n",
    "|                               | field.delim                                        | ,                     |\n",
    "|                               | line.delim                                         | \\n                    |\n",
    "|                               | serialization.format                               | ,                     |\n",
    "+-------------------------------+----------------------------------------------------+-----------------------+\n",
    "38 rows selected (0.394 seconds)"
   ]
  },
  {
   "cell_type": "markdown",
   "metadata": {},
   "source": [
    "## Inserir Dados na Tabela Raw"
   ]
  },
  {
   "cell_type": "markdown",
   "metadata": {},
   "source": [
    "6.Selecionar os 10 primeiros registros da tabela pop"
   ]
  },
  {
   "cell_type": "code",
   "execution_count": null,
   "metadata": {
    "vscode": {
     "languageId": "plaintext"
    }
   },
   "outputs": [],
   "source": [
    "select *\n",
    "from pop\n",
    "limit 10;\n",
    "+---------------+-----------------------+-----------------+------------------+--------------------+-----------------------+-----------------------------+\n",
    "| pop.zip_code  | pop.total_population  | pop.median_age  | pop.total_males  | pop.total_females  | pop.total_households  | pop.average_household_size  |\n",
    "+---------------+-----------------------+-----------------+------------------+--------------------+-----------------------+-----------------------------+\n",
    "+---------------+-----------------------+-----------------+------------------+--------------------+-----------------------+-----------------------------+"
   ]
  },
  {
   "cell_type": "markdown",
   "metadata": {},
   "source": [
    "7.Carregar o arquivo do HDFS “/user/aluno/<nome>/data/população/populacaoLA.csv” para a tabela Hive pop"
   ]
  },
  {
   "cell_type": "code",
   "execution_count": null,
   "metadata": {
    "vscode": {
     "languageId": "plaintext"
    }
   },
   "outputs": [],
   "source": [
    "load data inpath '/user/aluno/esther/data/populacao/populacaoLA.csv' overwrite into table pop;"
   ]
  },
  {
   "cell_type": "markdown",
   "metadata": {},
   "source": [
    "8.Selecionar os 10 primeiros registros da tabela pop"
   ]
  },
  {
   "cell_type": "code",
   "execution_count": null,
   "metadata": {
    "vscode": {
     "languageId": "plaintext"
    }
   },
   "outputs": [],
   "source": [
    " select * from pop limit 10;\n",
    "+---------------+-----------------------+-----------------+------------------+--------------------+-----------------------+-----------------------------+\n",
    "| pop.zip_code  | pop.total_population  | pop.median_age  | pop.total_males  | pop.total_females  | pop.total_households  | pop.average_household_size  |\n",
    "+---------------+-----------------------+-----------------+------------------+--------------------+-----------------------+-----------------------------+\n",
    "| 91371         | 1                     | 73.5            | 0                | 1                  | 1                     | 1.0                         |\n",
    "| 90001         | 57110                 | 26.6            | 28468            | 28642              | 12971                 | 4.4                         |\n",
    "| 90002         | 51223                 | 25.5            | 24876            | 26347              | 11731                 | 4.36                        |\n",
    "| 90003         | 66266                 | 26.3            | 32631            | 33635              | 15642                 | 4.22                        |\n",
    "| 90004         | 62180                 | 34.8            | 31302            | 30878              | 22547                 | 2.73                        |\n",
    "| 90005         | 37681                 | 33.9            | 19299            | 18382              | 15044                 | 2.5                         |\n",
    "| 90006         | 59185                 | 32.4            | 30254            | 28931              | 18617                 | 3.13                        |\n",
    "| 90007         | 40920                 | 24.0            | 20915            | 20005              | 11944                 | 3.0                         |\n",
    "| 90008         | 32327                 | 39.7            | 14477            | 17850              | 13841                 | 2.33                        |\n",
    "| 90010         | 3800                  | 37.8            | 1874             | 1926               | 2014                  | 1.87                        |\n",
    "+---------------+-----------------------+-----------------+------------------+--------------------+-----------------------+-----------------------------+\n",
    "10 rows selected (1.475 seconds)"
   ]
  },
  {
   "cell_type": "markdown",
   "metadata": {},
   "source": [
    "9.Contar a quantidade de registros da tabela pop"
   ]
  },
  {
   "cell_type": "code",
   "execution_count": null,
   "metadata": {
    "vscode": {
     "languageId": "plaintext"
    }
   },
   "outputs": [],
   "source": [
    "select count(*) as qtd_registros from pop;\n",
    "+----------------+\n",
    "| qtd_registros  |\n",
    "+----------------+\n",
    "| 319            |\n",
    "+----------------+\n",
    "1 row selected (20.527 seconds)"
   ]
  }
 ],
 "metadata": {
  "language_info": {
   "name": "python"
  },
  "orig_nbformat": 4
 },
 "nbformat": 4,
 "nbformat_minor": 2
}
